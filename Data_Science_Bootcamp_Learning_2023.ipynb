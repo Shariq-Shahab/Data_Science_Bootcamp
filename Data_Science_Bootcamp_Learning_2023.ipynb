{
 "cells": [
  {
   "cell_type": "code",
   "execution_count": 1,
   "id": "b3978a20",
   "metadata": {},
   "outputs": [
    {
     "name": "stdout",
     "output_type": "stream",
     "text": [
      "hooray\n"
     ]
    }
   ],
   "source": [
    "#Conditional Statements\n",
    "if 5 == 15/3 :\n",
    "    print(\"hooray\")"
   ]
  },
  {
   "cell_type": "code",
   "execution_count": 2,
   "id": "11c41328",
   "metadata": {},
   "outputs": [
    {
     "name": "stdout",
     "output_type": "stream",
     "text": [
      "Hooray\n"
     ]
    }
   ],
   "source": [
    "if 5 != 6*3 :\n",
    "    print(\"Hooray\")"
   ]
  },
  {
   "cell_type": "code",
   "execution_count": 4,
   "id": "07584ceb",
   "metadata": {},
   "outputs": [
    {
     "name": "stdout",
     "output_type": "stream",
     "text": [
      "case2\n"
     ]
    }
   ],
   "source": [
    "x = 3\n",
    "if x < 3 :\n",
    "    print(\"case1\")\n",
    "if x >= 3 :\n",
    "    print(\"case2\")\n",
    "else:\n",
    "    print(\"case3\")"
   ]
  },
  {
   "cell_type": "code",
   "execution_count": 21,
   "id": "a9d59a78",
   "metadata": {},
   "outputs": [],
   "source": [
    "#Section 26 \"Conditional Statements\"\n",
    "#Elif Statements\n",
    "\n",
    "def compare(y):\n",
    "    if y > 5:\n",
    "       return \"greater\"\n",
    "    elif y < 0 :\n",
    "        return \"Negative\"\n",
    "    elif y < 5 :\n",
    "        return \"Less\"\n",
    "    else:\n",
    "        return \"Equal\""
   ]
  },
  {
   "cell_type": "code",
   "execution_count": 22,
   "id": "c3a2b7ca",
   "metadata": {},
   "outputs": [
    {
     "name": "stdout",
     "output_type": "stream",
     "text": [
      "Negative\n"
     ]
    }
   ],
   "source": [
    "print(compare(-4))"
   ]
  },
  {
   "cell_type": "code",
   "execution_count": 2,
   "id": "3db96ae1",
   "metadata": {},
   "outputs": [
    {
     "name": "stdout",
     "output_type": "stream",
     "text": [
      "first function\n"
     ]
    }
   ],
   "source": [
    "#Section 28 \"Functions\"\n",
    "#Functions\n",
    "\n",
    "def simple():\n",
    "    print (\"first function\")\n",
    "\n",
    "#Calling Function\n",
    "simple()"
   ]
  },
  {
   "cell_type": "code",
   "execution_count": 4,
   "id": "d34765dd",
   "metadata": {},
   "outputs": [
    {
     "data": {
      "text/plain": [
       "15"
      ]
     },
     "execution_count": 4,
     "metadata": {},
     "output_type": "execute_result"
    }
   ],
   "source": [
    "#Function With Parameter\n",
    "\n",
    "def plus_ten(a):\n",
    "    return a + 10  \n",
    "\n",
    "plus_ten(5)"
   ]
  },
  {
   "cell_type": "code",
   "execution_count": 5,
   "id": "b3fe364f",
   "metadata": {},
   "outputs": [],
   "source": [
    "#Function\n",
    "\n",
    "def ten_plus(b):\n",
    "    result = b + 10\n",
    "    return result"
   ]
  },
  {
   "cell_type": "code",
   "execution_count": 6,
   "id": "5bda3d22",
   "metadata": {},
   "outputs": [
    {
     "data": {
      "text/plain": [
       "13"
      ]
     },
     "execution_count": 6,
     "metadata": {},
     "output_type": "execute_result"
    }
   ],
   "source": [
    "ten_plus(3)"
   ]
  },
  {
   "cell_type": "code",
   "execution_count": 9,
   "id": "07b90a61",
   "metadata": {},
   "outputs": [],
   "source": [
    "# Function within A function\n",
    "def wage(w_hours):      \n",
    "    return w_hours * 25    \n",
    "def with_bonus(w_hours):\n",
    "    return wage(w_hours) + 50 #First we define the function and take the updated value of first function to return in 2nd one"
   ]
  },
  {
   "cell_type": "code",
   "execution_count": 10,
   "id": "35a3de6e",
   "metadata": {},
   "outputs": [
    {
     "data": {
      "text/plain": [
       "(200, 250)"
      ]
     },
     "execution_count": 10,
     "metadata": {},
     "output_type": "execute_result"
    }
   ],
   "source": [
    "wage(8),with_bonus(8)"
   ]
  },
  {
   "cell_type": "code",
   "execution_count": 18,
   "id": "47f6040d",
   "metadata": {},
   "outputs": [],
   "source": [
    "# Condtional Statements and Functions\n",
    "\n",
    "def add_10(m):\n",
    "    if m >= 100:\n",
    "        m = m + 10\n",
    "        return m\n",
    "    else:\n",
    "        return \"Save More\"\n",
    "    "
   ]
  },
  {
   "cell_type": "code",
   "execution_count": 19,
   "id": "c6a6961c",
   "metadata": {},
   "outputs": [
    {
     "data": {
      "text/plain": [
       "120"
      ]
     },
     "execution_count": 19,
     "metadata": {},
     "output_type": "execute_result"
    }
   ],
   "source": [
    "add_10(110)"
   ]
  },
  {
   "cell_type": "code",
   "execution_count": 20,
   "id": "27ec0b29",
   "metadata": {},
   "outputs": [
    {
     "data": {
      "text/plain": [
       "'Save More'"
      ]
     },
     "execution_count": 20,
     "metadata": {},
     "output_type": "execute_result"
    }
   ],
   "source": [
    "add_10(99)"
   ]
  },
  {
   "cell_type": "code",
   "execution_count": 8,
   "id": "d8ad947e",
   "metadata": {},
   "outputs": [],
   "source": [
    "# Methods #It is used to add or call an existing method using the syntax .append()\n",
    "# If we want to add another participant in our old example\n",
    "\n",
    "participants = [\"James\" , \"George\" , \"Ali\"]\n",
    "participants.append(\"Ahmed\")"
   ]
  },
  {
   "cell_type": "code",
   "execution_count": 9,
   "id": "72299161",
   "metadata": {},
   "outputs": [
    {
     "data": {
      "text/plain": [
       "['James', 'George', 'Ali', 'Ahmed']"
      ]
     },
     "execution_count": 9,
     "metadata": {},
     "output_type": "execute_result"
    }
   ],
   "source": [
    "participants"
   ]
  },
  {
   "cell_type": "code",
   "execution_count": 11,
   "id": "8c73ec57",
   "metadata": {},
   "outputs": [
    {
     "data": {
      "text/plain": [
       "['James', 'George', 'Ali', 'Ahmed', 'Jamal', 'Sara']"
      ]
     },
     "execution_count": 11,
     "metadata": {},
     "output_type": "execute_result"
    }
   ],
   "source": [
    "# Another method to add but it would add another list to the existing one\n",
    "participants.extend([\"Jamal\" , \"Sara\"])\n",
    "participants"
   ]
  },
  {
   "cell_type": "code",
   "execution_count": 23,
   "id": "9563d1ad",
   "metadata": {},
   "outputs": [
    {
     "data": {
      "text/plain": [
       "['Jamal', 'Sara']"
      ]
     },
     "execution_count": 23,
     "metadata": {},
     "output_type": "execute_result"
    }
   ],
   "source": [
    "# List Slicing # Helps to divide or breaks a set of list or data in small parts\n",
    "Participants = ['James', 'George', 'Ali', 'Ahmed', 'Jamal', 'Sara']\n",
    "#Participants[:2] \n",
    "#Participants[2:4] \n",
    "Participants[-2:]"
   ]
  },
  {
   "cell_type": "code",
   "execution_count": 25,
   "id": "405eb6db",
   "metadata": {},
   "outputs": [
    {
     "data": {
      "text/plain": [
       "2"
      ]
     },
     "execution_count": 25,
     "metadata": {},
     "output_type": "execute_result"
    }
   ],
   "source": [
    "#if you dont know the location of desired value/string . You can use .index to know the index of that value/string\n",
    "Participants.index('Ali')"
   ]
  },
  {
   "cell_type": "code",
   "execution_count": 28,
   "id": "4e66543c",
   "metadata": {},
   "outputs": [
    {
     "data": {
      "text/plain": [
       "[['James', 'George', 'Ali', 'Ahmed', 'Jamal', 'Sara'], ['Josh', 'Maria']]"
      ]
     },
     "execution_count": 28,
     "metadata": {},
     "output_type": "execute_result"
    }
   ],
   "source": [
    "#Combining list into another one\n",
    "new_commers = [\"Josh\" , \"Maria\"]\n",
    "\n",
    "Bigger_list = [Participants , new_commers]\n",
    "Bigger_list"
   ]
  },
  {
   "cell_type": "code",
   "execution_count": 35,
   "id": "b722cace",
   "metadata": {},
   "outputs": [
    {
     "data": {
      "text/plain": [
       "['Ahmed', 'Ali', 'George', 'Jamal', 'James', 'Sara']"
      ]
     },
     "execution_count": 35,
     "metadata": {},
     "output_type": "execute_result"
    }
   ],
   "source": [
    "#To sort the list into order we use .sort\n",
    "\n",
    "Participants.sort()\n",
    "Participants\n",
    "\n",
    "#To sort in reverse order\n",
    "# Participants.sort(reverse=True)\n",
    "# Participants"
   ]
  },
  {
   "cell_type": "code",
   "execution_count": 39,
   "id": "2884271d",
   "metadata": {},
   "outputs": [],
   "source": [
    "# create a tuple, called \"Cars\", with elements \"BMW\", \"Dodge\", and \"Ford\". \n",
    "\n",
    "Cars = 'BMW' , 'Dodge' , 'Ford'\n",
    "Cars\n",
    "\n",
    "Access the second element of this tuple.\n",
    "\n",
    "Cars[2]\n",
    "\n",
    "# Call a method that would allow you to extract the provided name and age separately. Then print the \"name\" and \"age\" values to see if you worked correctly.\n",
    "\n",
    "name, age = 'Peter,24'.split(\",\")  #Split character is used to split the two variable values\n",
    "\n",
    "print(name)\n",
    "print(age)\n",
    "\n",
    "# Create a function that takes as arguments the two values of a rectangle and then returns the Area and the Perimeter of the rectangle.\n",
    "# Call the function with arguments 2 and 10 to verify it worked correctly.\n",
    "\n",
    "def area(x,y):\n",
    "    A = x ** y\n",
    "    P = 2 * (x + y)\n",
    "    return A,P\n",
    "\n",
    "area(2,10)\n",
    "\n",
    "    "
   ]
  },
  {
   "cell_type": "code",
   "execution_count": null,
   "id": "9342344f",
   "metadata": {},
   "outputs": [],
   "source": [
    "# Working with dictionaries . These are another way of storing data.We have to assign a unique key to each value\n"
   ]
  }
 ],
 "metadata": {
  "kernelspec": {
   "display_name": "Python 3 (ipykernel)",
   "language": "python",
   "name": "python3"
  },
  "language_info": {
   "codemirror_mode": {
    "name": "ipython",
    "version": 3
   },
   "file_extension": ".py",
   "mimetype": "text/x-python",
   "name": "python",
   "nbconvert_exporter": "python",
   "pygments_lexer": "ipython3",
   "version": "3.10.9"
  }
 },
 "nbformat": 4,
 "nbformat_minor": 5
}

